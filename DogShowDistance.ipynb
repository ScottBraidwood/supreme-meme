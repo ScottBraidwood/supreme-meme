{
 "cells": [
  {
   "cell_type": "code",
   "execution_count": 2,
   "id": "b32e0f97",
   "metadata": {},
   "outputs": [],
   "source": [
    "import pandas as pd\n",
    "import numpy as np\n",
    "from geopy.distance import geodesic as GD\n",
    "\n",
    "from bokeh.plotting import figure, output_notebook, show\n",
    "from bokeh.layouts import gridplot\n",
    "from bokeh.models import Range1d, Whisker, ColumnDataSource\n",
    "from bokeh.models.tools import HoverTool\n",
    "\n",
    "\n",
    "\n",
    "\n",
    "dogShows = pd.read_csv('dogShows.csv', sep = ',')\n",
    "df = pd.read_csv('ukpostcodes.csv', sep = ',')\n",
    "\n",
    "codes = dogShows['Postcode']\n",
    "\n",
    "lats = []\n",
    "longs = []\n",
    "dists = []\n",
    "\n",
    "for i in codes:\n",
    "    x = (df.loc[df['postcode'] == i])\n",
    "    lats.append(x.iloc[0,2])\n",
    "    longs.append(x.iloc[0,3])\n",
    "    \n",
    "dogShows['Lat'] = lats\n",
    "dogShows['Long'] = longs\n",
    "\n",
    "num = 0\n",
    "\n",
    "for i in codes:\n",
    "    home = (55.680932, -4.510708)\n",
    "    target = (dogShows.iloc[num,3], dogShows.iloc[num,4])\n",
    "    dists.append(GD(home,target).mi)\n",
    "    num += 1\n",
    "\n",
    "dists = list(np.around(np.array(dists),1))\n",
    "\n",
    "dogShows['Distance'] = dists\n",
    "dogShows = dogShows.sort_values(by=['Distance'])\n",
    "\n",
    "dogShows.to_csv('out.csv')\n",
    "\n",
    "p1 = figure(title = 'Galactic Rotation Curve',\n",
    "        #x_axis_label = 'Distance from galactic centre (kpc)',\n",
    "        #y_axis_label = 'Speed (km s^-1)',\n",
    "        plot_width = 400,\n",
    "        plot_height = 600,\n",
    "        y_range = (48,62),\n",
    "        x_range = (-12,4))\n",
    "\n",
    "p1.image_url(url=['https://i.imgur.com/a04eu3Z.png'],\n",
    "            x=[-11.7], y=[48.0], w=[16.7], h=[15.5], anchor=\"bottom_left\")\n",
    "\n",
    "p1.dot(dogShows['Long'],dogShows['Lat'],size = 25, color = 'red')\n",
    "\n",
    "\n",
    "\n",
    "show(p1)"
   ]
  },
  {
   "cell_type": "code",
   "execution_count": null,
   "id": "a1d9824c",
   "metadata": {},
   "outputs": [],
   "source": []
  },
  {
   "cell_type": "code",
   "execution_count": null,
   "id": "f2e5454c",
   "metadata": {},
   "outputs": [],
   "source": []
  },
  {
   "cell_type": "code",
   "execution_count": null,
   "id": "461bcbf7",
   "metadata": {},
   "outputs": [],
   "source": []
  }
 ],
 "metadata": {
  "kernelspec": {
   "display_name": "Python 3 (ipykernel)",
   "language": "python",
   "name": "python3"
  },
  "language_info": {
   "codemirror_mode": {
    "name": "ipython",
    "version": 3
   },
   "file_extension": ".py",
   "mimetype": "text/x-python",
   "name": "python",
   "nbconvert_exporter": "python",
   "pygments_lexer": "ipython3",
   "version": "3.9.12"
  }
 },
 "nbformat": 4,
 "nbformat_minor": 5
}
